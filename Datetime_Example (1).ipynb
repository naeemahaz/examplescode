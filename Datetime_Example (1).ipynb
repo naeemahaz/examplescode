{
 "cells": [
  {
   "cell_type": "markdown",
   "metadata": {},
   "source": [
    "<h1>Bucketing time</h1>"
   ]
  },
  {
   "cell_type": "markdown",
   "metadata": {},
   "source": [
    "<h4>The file \"sample_data.csv\" contains start times and processing times for all complaints registered with New York City's 311 complaint hotline on 01/01/2016. Our goal is to compute the average processing time for each hourly bucket.\n"
   ]
  },
  {
   "cell_type": "markdown",
   "metadata": {},
   "source": [
    "<h4>Let's take a quick look at the data"
   ]
  },
  {
   "cell_type": "code",
   "execution_count": null,
   "metadata": {
    "collapsed": false
   },
   "outputs": [],
   "source": [
    "#Unfortunatel, this won't work on Windows.\n",
    "!head sample_data.csv"
   ]
  },
  {
   "cell_type": "markdown",
   "metadata": {},
   "source": [
    "<h3>Step 1: Read the data</h3>"
   ]
  },
  {
   "cell_type": "code",
   "execution_count": null,
   "metadata": {
    "collapsed": true
   },
   "outputs": [],
   "source": [
    "data_tuples = list()\n",
    "with open('sample_data.csv','r') as f:\n",
    "    for line in f:\n",
    "        data_tuples.append(line.strip().split(','))"
   ]
  },
  {
   "cell_type": "markdown",
   "metadata": {},
   "source": [
    "<h4>Let's look at the first 10 lines</h4>"
   ]
  },
  {
   "cell_type": "code",
   "execution_count": null,
   "metadata": {
    "collapsed": false
   },
   "outputs": [],
   "source": [
    "data_tuples[0:10]"
   ]
  },
  {
   "cell_type": "markdown",
   "metadata": {},
   "source": [
    "<li><b>Element 1 of the tuple is a date inside a string\n",
    "<li>Element 2 is double inside a string\n",
    "<li>Let's convert them"
   ]
  },
  {
   "cell_type": "code",
   "execution_count": null,
   "metadata": {
    "collapsed": false
   },
   "outputs": [],
   "source": [
    "#Figure out the format string\n",
    "# http://pubs.opengroup.org/onlinepubs/009695399/functions/strptime.html \n",
    "x='2016-01-01 00:00:09'\n",
    "format_str = \"%Y-%m-%d %H:%M:%S\"\n",
    "datetime.datetime.strptime(x,format_str)"
   ]
  },
  {
   "cell_type": "code",
   "execution_count": null,
   "metadata": {
    "collapsed": false
   },
   "outputs": [],
   "source": [
    "data_tuples = list()\n",
    "with open('sample_data.csv','r') as f:\n",
    "    for line in f:\n",
    "        data_tuples.append(line.strip().split(','))\n",
    "import datetime\n",
    "for i in range(0,len(data_tuples)):\n",
    "    data_tuples[i][0] = datetime.datetime.strptime(data_tuples[i][0],format_str)\n",
    "    data_tuples[i][1] = float(data_tuples[i][1])"
   ]
  },
  {
   "cell_type": "code",
   "execution_count": null,
   "metadata": {
    "collapsed": false
   },
   "outputs": [],
   "source": [
    "#Let's see if this worked\n",
    "data_tuples[0:10]"
   ]
  },
  {
   "cell_type": "markdown",
   "metadata": {},
   "source": [
    "<h4>We can replace the datetime by hourly buckets</h4>"
   ]
  },
  {
   "cell_type": "code",
   "execution_count": null,
   "metadata": {
    "collapsed": false
   },
   "outputs": [],
   "source": [
    "#Extract the hour from a datetime object\n",
    "x=data_tuples[0][0]\n",
    "x.hour"
   ]
  },
  {
   "cell_type": "markdown",
   "metadata": {},
   "source": [
    "<h4>Use list comprehension to bucket the data</h4>"
   ]
  },
  {
   "cell_type": "code",
   "execution_count": null,
   "metadata": {
    "collapsed": false
   },
   "outputs": [],
   "source": [
    "data_tuples = [(x[0].hour,x[1]) for x in data_tuples]"
   ]
  },
  {
   "cell_type": "code",
   "execution_count": null,
   "metadata": {
    "collapsed": false
   },
   "outputs": [],
   "source": [
    "data_tuples = list()\n",
    "with open('sample_data.csv','r') as f:\n",
    "    for line in f:\n",
    "        data_tuples.append(line.strip().split(','))\n",
    "import datetime\n",
    "for i in range(0,len(data_tuples)):\n",
    "    data_tuples[i][0] = datetime.datetime.strptime(data_tuples[i][0],format_str)\n",
    "    data_tuples[i][1] = float(data_tuples[i][1])\n"
   ]
  },
  {
   "cell_type": "markdown",
   "metadata": {},
   "source": [
    "<h3>Create a function that returns the data</h3>"
   ]
  },
  {
   "cell_type": "code",
   "execution_count": null,
   "metadata": {
    "collapsed": false
   },
   "outputs": [],
   "source": [
    "def get_data(filename):\n",
    "    data_tuples = list()\n",
    "    with open(filename,'r') as f:\n",
    "        for line in f:\n",
    "            data_tuples.append(line.strip().split(','))\n",
    "    import datetime\n",
    "    format_str = \"%Y-%m-%d %H:%M:%S\"\n",
    "    data_tuples = [(datetime.datetime.strptime(x[0],format_str).hour,float(x[1])) for x in data_tuples]\n",
    "    return data_tuples    "
   ]
  },
  {
   "cell_type": "code",
   "execution_count": null,
   "metadata": {
    "collapsed": false
   },
   "outputs": [],
   "source": [
    "get_data('sample_data.csv')"
   ]
  },
  {
   "cell_type": "markdown",
   "metadata": {},
   "source": [
    "<h3>Step 2: Accumulate counts and sums for each bucket"
   ]
  },
  {
   "cell_type": "code",
   "execution_count": null,
   "metadata": {
    "collapsed": false
   },
   "outputs": [],
   "source": [
    "buckets = dict()\n",
    "for item in get_data('sample_data.csv'):\n",
    "    if item[0] in buckets:\n",
    "        buckets[item[0]][0] += 1\n",
    "        buckets[item[0]][1] += item[1]\n",
    "    else:\n",
    "        buckets[item[0]] = [1,item[1]]\n"
   ]
  },
  {
   "cell_type": "code",
   "execution_count": null,
   "metadata": {
    "collapsed": false
   },
   "outputs": [],
   "source": [
    "buckets"
   ]
  },
  {
   "cell_type": "markdown",
   "metadata": {},
   "source": [
    "<h3>Let's print them to see what sort of pattern is there in the data</h3>\n",
    "<h4>Bear in mind that this is just one day's data!"
   ]
  },
  {
   "cell_type": "code",
   "execution_count": null,
   "metadata": {
    "collapsed": false
   },
   "outputs": [],
   "source": [
    "for key,value in buckets.items():\n",
    "    print(\"Hour:\",key,\"\\tAverage:\",value[1]/value[0])"
   ]
  },
  {
   "cell_type": "markdown",
   "metadata": {},
   "source": [
    "<h3>Put everything into a function</h3>\n",
    "<h4>This way, we can easily test other similar datasets"
   ]
  },
  {
   "cell_type": "code",
   "execution_count": 1,
   "metadata": {
    "collapsed": true
   },
   "outputs": [],
   "source": [
    "def get_hour_bucket_averages(filename):\n",
    "    def get_data(filename):\n",
    "        data_tuples = list()\n",
    "        with open(filename,'r') as f:\n",
    "            for line in f:\n",
    "                data_tuples.append(line.strip().split(','))\n",
    "        import datetime\n",
    "        format_str = \"%Y-%m-%d %H:%M:%S\"\n",
    "        data_tuples = [(datetime.datetime.strptime(x[0],format_str).hour,float(x[1])) for x in data_tuples]\n",
    "        return data_tuples        \n",
    "    buckets = dict()\n",
    "    for item in get_data(filename):\n",
    "        if item[0] in buckets:\n",
    "            buckets[item[0]][0] += 1\n",
    "            buckets[item[0]][1] += item[1]\n",
    "        else:\n",
    "            buckets[item[0]] = [1,item[1]]  \n",
    "    return [(key,value[1]/value[0]) for key,value in buckets.items()]\n"
   ]
  },
  {
   "cell_type": "code",
   "execution_count": null,
   "metadata": {
    "collapsed": false
   },
   "outputs": [],
   "source": [
    "get_hour_bucket_averages('sample_data.csv')"
   ]
  },
  {
   "cell_type": "markdown",
   "metadata": {},
   "source": [
    "<h3>The file all_data.csv contains data from January to September 2016</h3>\n",
    "<h4>We can test whether our one day result is generally true or not</h4>"
   ]
  },
  {
   "cell_type": "code",
   "execution_count": 2,
   "metadata": {
    "collapsed": false
   },
   "outputs": [
    {
     "data": {
      "text/plain": [
       "[(0, 4.485612099128487),\n",
       " (1, 2.8263083049680278),\n",
       " (2, 2.859209391496003),\n",
       " (3, 2.9813212672915657),\n",
       " (4, 3.520777693173893),\n",
       " (5, 4.028842839550067),\n",
       " (6, 5.3501635819789914),\n",
       " (7, 4.505984716000046),\n",
       " (8, 5.090230597495249),\n",
       " (9, 6.767684356105564),\n",
       " (10, 7.252764762298842),\n",
       " (11, 7.156706204701707),\n",
       " (12, 7.422673351052525),\n",
       " (13, 7.402425948682307),\n",
       " (14, 7.546603227374128),\n",
       " (15, 8.001251635520441),\n",
       " (16, 8.191847429766709),\n",
       " (17, 7.275740883284791),\n",
       " (18, 6.464817194100053),\n",
       " (19, 5.6403138675375155),\n",
       " (20, 4.989414785443646),\n",
       " (21, 4.275270320395889),\n",
       " (22, 3.5846441619204086),\n",
       " (23, 3.0346464768596855)]"
      ]
     },
     "execution_count": 2,
     "metadata": {},
     "output_type": "execute_result"
    }
   ],
   "source": [
    "get_hour_bucket_averages('all_data.csv')"
   ]
  },
  {
   "cell_type": "code",
   "execution_count": null,
   "metadata": {
    "collapsed": true
   },
   "outputs": [],
   "source": []
  }
 ],
 "metadata": {
  "kernelspec": {
   "display_name": "Python [Root]",
   "language": "python",
   "name": "Python [Root]"
  },
  "language_info": {
   "codemirror_mode": {
    "name": "ipython",
    "version": 3
   },
   "file_extension": ".py",
   "mimetype": "text/x-python",
   "name": "python",
   "nbconvert_exporter": "python",
   "pygments_lexer": "ipython3",
   "version": "3.5.2"
  }
 },
 "nbformat": 4,
 "nbformat_minor": 2
}
